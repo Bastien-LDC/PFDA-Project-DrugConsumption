{
 "cells": [
  {
   "cell_type": "markdown",
   "id": "005fdff6-9e7d-460c-89ee-26b97c5d6cfb",
   "metadata": {},
   "source": [
    "# PROJECT PYTHON FOR DATA ANALYSIS\n",
    "## Drug Consumptions"
   ]
  },
  {
   "cell_type": "code",
   "execution_count": null,
   "id": "a0f5d1ff-10ca-4e40-a3a6-5458048235d3",
   "metadata": {},
   "outputs": [],
   "source": [
    "import numpy as np\n",
    "import pandas as pd\n",
    "import matplotlib.pyplot as plt\n",
    "import seaborn as sns\n",
    "import plotly"
   ]
  },
  {
   "cell_type": "markdown",
   "id": "b2bdc4f0-75a2-4788-b7bb-f2557630cd62",
   "metadata": {},
   "source": [
    "### Dataset preparation"
   ]
  },
  {
   "cell_type": "code",
   "execution_count": null,
   "id": "c9277b88-2c11-4f62-954b-3c21255e403f",
   "metadata": {},
   "outputs": [],
   "source": [
    "demographic_columns = [\"Age\",\"Gender\",\"Education\",\"Country\",\"Ethnicity\"]\n",
    "personality_columns = [\"Nscore\",\"Escore\",\"Oscore\",\"Ascore\",\"Cscore\",\"Impulsive\",\"SS\"]\n",
    "feature_columns = demographic_columns + personality_columns\n",
    "drugs_columns = [\"Alcohol\",\"Amphetamines\",\"Amyl nitrite\",\"Benzodiazepine\",\"Caffeine\",\"Cannabis\",\"Chocolate\",\"Cocaine\",\"Crack\",\"Ecstasy\",\"Heroin\",\"Ketamine\",\"Legal highs\",\"LSD\",\"Methadone\",\"Mushrooms\",\"Nicotine\",\"Fictitious drug Semeron\",\"Volatile substance abuse\"]\n",
    "drugs_legal = ['Alcohol', 'Caffeine', 'Chocolate', 'Nicotine']\n",
    "drugs_illegal = [drug for drug in drugs_columns if drug not in drugs_legal]\n",
    "all_columns = feature_columns + drugs_columns"
   ]
  },
  {
   "cell_type": "markdown",
   "id": "36b7243a-112c-4053-bf14-93e9a7690a10",
   "metadata": {},
   "source": [
    "### Loading the dataset"
   ]
  },
  {
   "cell_type": "code",
   "execution_count": null,
   "id": "4bc94b4c-5e3a-4549-80fd-202a61bd6dcd",
   "metadata": {},
   "outputs": [],
   "source": [
    "df = pd.read_csv(\"drug_consumption.data\",names=all_columns,header=None)\n",
    "df.reset_index(drop=True,inplace=True)\n",
    "df"
   ]
  },
  {
   "cell_type": "markdown",
   "id": "69096c76-ee13-4a62-ab13-a581dd40448c",
   "metadata": {
    "tags": []
   },
   "source": [
    "### Nominal drug to ordinal data"
   ]
  },
  {
   "cell_type": "code",
   "execution_count": null,
   "id": "ab3785ef-87cb-4533-a989-1090a8845341",
   "metadata": {},
   "outputs": [],
   "source": [
    "for i in drugs_columns:\n",
    "    df[i] = df[i].map({'CL0': 0, 'CL1': 1, 'CL2': 2, 'CL3': 3, 'CL4': 4, 'CL5': 5, 'CL6': 6})\n",
    "df.head()"
   ]
  },
  {
   "cell_type": "markdown",
   "id": "187ccd1a-c452-4b92-bb2c-860384f2f5f5",
   "metadata": {},
   "source": [
    "### Removing Semeron users"
   ]
  },
  {
   "cell_type": "code",
   "execution_count": null,
   "id": "a7174baa-9b19-4d74-835a-bc9ecf9e140d",
   "metadata": {},
   "outputs": [],
   "source": [
    "semerons = df[df['Fictitious drug Semeron'] != 0]\n",
    "df_noFake = df[df['Fictitious drug Semeron'] == 0]\n",
    "# Removing it from drug lists\n",
    "drugs_columns.remove('Fictitious drug Semeron')\n",
    "drugs_illegal.remove('Fictitious drug Semeron')\n",
    "#Dropping the column from the dataset\n",
    "df_noFake = df_noFake.drop(columns='Fictitious drug Semeron')\n",
    "df_noFake.reset_index(drop=True,inplace=True)\n",
    "df_noFake.shape\n",
    "df_noFake"
   ]
  },
  {
   "cell_type": "markdown",
   "id": "f4d6c7c1-cbaa-4591-975f-f5a0f2cbeb89",
   "metadata": {},
   "source": [
    "## Machine Learning Models"
   ]
  },
  {
   "cell_type": "markdown",
   "id": "6c3afe30-505a-4f8d-bcab-58898497cbcb",
   "metadata": {},
   "source": [
    "### Binarization of the outputs"
   ]
  },
  {
   "cell_type": "code",
   "execution_count": null,
   "id": "3c387f78-92a1-4809-839a-4ee394ad00cd",
   "metadata": {},
   "outputs": [],
   "source": [
    "# Binarization for user/non-user\n",
    "outputs = df_noFake[drugs_columns]\n",
    "X = df_noFake.copy().drop(outputs, axis=1)\n",
    "\n",
    "bin_outputs = outputs.copy()\n",
    "for i in range(len(bin_outputs)):\n",
    "    for drug in drugs_columns:\n",
    "        if bin_outputs.loc[i,drug]>2:\n",
    "            bin_outputs.loc[i,drug]=1\n",
    "        else:\n",
    "            bin_outputs.loc[i,drug]=0\n",
    "bin_outputs   "
   ]
  },
  {
   "cell_type": "markdown",
   "id": "59b86d06-81c7-47fd-8171-4dd4b98e8b0e",
   "metadata": {},
   "source": [
    "### Logistic Regression"
   ]
  },
  {
   "cell_type": "code",
   "execution_count": null,
   "id": "7df28ed2-325c-4c3e-99db-65101165bd54",
   "metadata": {},
   "outputs": [],
   "source": [
    "from sklearn.linear_model import LogisticRegression\n",
    "from sklearn.model_selection import train_test_split\n",
    "from sklearn.metrics import precision_score\n",
    "from sklearn.metrics import accuracy_score\n",
    "from sklearn import metrics\n",
    "\n",
    "def IsUserPrediction_LogReg(X,drug_name):\n",
    "    # For 1 drug at a time. Need to manually change the value\n",
    "    X_train,X_test,y_train,y_test=train_test_split(X,outputs[drug_name].values,test_size=0.2,random_state=9)\n",
    "\n",
    "    reg_log = LogisticRegression()\n",
    "    reg_log.fit(X_train, y_train)\n",
    "    y_pred = reg_log.predict(X_test)\n",
    "    cm = metrics.confusion_matrix(y_test, y_pred)\n",
    "    score_cm = accuracy_score(y_test, y_pred)\n",
    "    plt.figure(figsize=(9,9))\n",
    "    sns.heatmap(cm, annot=True, fmt=\".0f\", linewidths=.5, square = True, cmap = 'Blues_r')\n",
    "    plt.ylabel('Actual label')\n",
    "    plt.xlabel('Predicted label')\n",
    "    plt.title(f\"Is a(n) {drug_name} user? \\nAccuracy score: {score_cm*100:.2f}%\")\n",
    "    return score_cm\n",
    "    \n",
    "    \n",
    "IsUserPrediction_LogReg(X,\"LSD\")\n",
    "   "
   ]
  },
  {
   "cell_type": "code",
   "execution_count": null,
   "id": "56ca4bc8-24aa-4c2c-8629-754b2a6ecd8a",
   "metadata": {},
   "outputs": [],
   "source": []
  },
  {
   "cell_type": "markdown",
   "id": "ef1634b1-fb3d-4e8f-a3d1-af81cc5b9a3d",
   "metadata": {},
   "source": [
    "### LDA"
   ]
  },
  {
   "cell_type": "code",
   "execution_count": null,
   "id": "cb7fac95-7926-406b-aa5f-2cb83fcc3ac0",
   "metadata": {},
   "outputs": [],
   "source": [
    "from sklearn.discriminant_analysis import LinearDiscriminantAnalysis as LDA\n",
    "\n",
    "def IsUserPrediction_LDA(X,drug_name):\n",
    " # For 1 drug at a time. Need to manually change the value\n",
    "    X_train,X_test,y_train,y_test=train_test_split(X,outputs[drug_name].values,test_size=0.2,random_state=9)\n",
    "\n",
    "    clf = LDA()\n",
    "    clf.fit(X_train,y_train)\n",
    "    y_pred = clf.predict(X_test)\n",
    "    cm = metrics.confusion_matrix(y_test, y_pred)\n",
    "    score_cm = accuracy_score(y_test, y_pred)\n",
    "    plt.figure(figsize=(9,9))\n",
    "    sns.heatmap(cm, annot=True, fmt=\".0f\", linewidths=.5, square = True, cmap = 'Blues_r')\n",
    "    plt.ylabel('Actual label')\n",
    "    plt.xlabel('Predicted label')\n",
    "    plt.title(f\"Is a(n) {drug_name} user? \\nAccuracy score: {score_cm*100:.2f}%\")\n",
    "    return score_cm\n",
    "\n",
    "IsUserPrediction_LDA(X,\"LSD\")"
   ]
  },
  {
   "cell_type": "code",
   "execution_count": null,
   "id": "d44ff063-3f60-4041-acb7-c3a3d0993bcb",
   "metadata": {},
   "outputs": [],
   "source": []
  },
  {
   "cell_type": "markdown",
   "id": "d74e2e30-ba33-45a7-8f31-46f0fe204ae3",
   "metadata": {},
   "source": [
    "### Random Forest Classifier"
   ]
  },
  {
   "cell_type": "code",
   "execution_count": null,
   "id": "ef14208f-d5d9-4532-9edc-2bdc5499be1f",
   "metadata": {},
   "outputs": [],
   "source": [
    "from sklearn.ensemble import RandomForestClassifier\n",
    "\n",
    "def IsUserPrediction_RFC(X,drug_name):\n",
    " # For 1 drug at a time. Need to manually change the value\n",
    "    X_train,X_test,y_train,y_test=train_test_split(X,outputs[drug_name].values,test_size=0.2,random_state=9)\n",
    "\n",
    "    clf = RandomForestClassifier(n_estimators=200,random_state=1)\n",
    "    clf.fit(X_train,y_train)\n",
    "    y_pred = clf.predict(X_test)\n",
    "    cm = metrics.confusion_matrix(y_test, y_pred)\n",
    "    score_cm = accuracy_score(y_test, y_pred)\n",
    "    plt.figure(figsize=(9,9))\n",
    "    sns.heatmap(cm, annot=True, fmt=\".0f\", linewidths=.5, square = True, cmap = 'Blues_r')\n",
    "    plt.ylabel('Actual label')\n",
    "    plt.xlabel('Predicted label')\n",
    "    plt.title(f\"Is a(n) {drug_name} user? \\nAccuracy score: {score_cm*100:.2f}%\")\n",
    "    return score_cm\n",
    "\n",
    "IsUserPrediction_RFC(X,\"Heroin\")\n",
    "\n"
   ]
  },
  {
   "cell_type": "markdown",
   "id": "6da74d68-ec95-430e-b359-b6b6f638dd6c",
   "metadata": {},
   "source": [
    "### SVC"
   ]
  },
  {
   "cell_type": "code",
   "execution_count": null,
   "id": "28184b21-cda3-4027-b5c7-53ef74366d23",
   "metadata": {},
   "outputs": [],
   "source": [
    "from sklearn import svm\n",
    "\n",
    "def IsUserPrediction_SVC(X,drug_name):\n",
    " # For 1 drug at a time. Need to manually change the value\n",
    "    X_train,X_test,y_train,y_test=train_test_split(X,outputs[drug_name].values,test_size=0.2,random_state=9)\n",
    "\n",
    "    clf = svm.SVC()\n",
    "    clf.fit(X_train,y_train)\n",
    "    y_pred = clf.predict(X_test)\n",
    "    cm = metrics.confusion_matrix(y_test, y_pred)\n",
    "    score_cm = accuracy_score(y_test, y_pred)\n",
    "    plt.figure(figsize=(9,9))\n",
    "    sns.heatmap(cm, annot=True, fmt=\".0f\", linewidths=.5, square = True, cmap = 'Blues_r')\n",
    "    plt.ylabel('Actual label')\n",
    "    plt.xlabel('Predicted label')\n",
    "    plt.title(f\"Is a(n) {drug_name} user? \\nAccuracy score: {score_cm*100:.2f}%\")\n",
    "    return score_cm\n",
    "\n",
    "IsUserPrediction_SVC(X,\"Heroin\")"
   ]
  },
  {
   "cell_type": "code",
   "execution_count": null,
   "id": "be9a8374-226f-4d7d-a6db-ba485fdbaf38",
   "metadata": {},
   "outputs": [],
   "source": []
  },
  {
   "cell_type": "markdown",
   "id": "9dbbf590-8eb7-4331-a735-62ebd1733204",
   "metadata": {},
   "source": [
    "### KNN\n",
    "#### Adding a new variable: is the individual an illegal drug user or not?"
   ]
  },
  {
   "cell_type": "code",
   "execution_count": null,
   "id": "456aceb8-2fa1-4d10-a40b-8ca3a9382fc7",
   "metadata": {},
   "outputs": [],
   "source": [
    "illegal_drug_var = [1 if sum(df[drugs_illegal].iloc[i] != 0) > 3 else 0 for i in range(len(df))]\n",
    "df['Illegal_user'] = illegal_drug_var"
   ]
  },
  {
   "cell_type": "code",
   "execution_count": null,
   "id": "1b37252b-a4d8-4c2a-bf0c-3b9466ecc182",
   "metadata": {},
   "outputs": [],
   "source": [
    "import plotly.express as px\n",
    "import numpy as np\n",
    "from sklearn.datasets import make_moons\n",
    "from sklearn.model_selection import train_test_split\n",
    "from sklearn.neighbors import KNeighborsClassifier\n",
    "\n",
    "# Load and split data\n",
    "outputs = df[drugs_columns]\n",
    "X = df.copy().drop(outputs, axis=1)\n",
    "X.drop([\"Illegal_user\"],axis=1, inplace=True)\n",
    "# For 1 drug at a time. Need to manually change the value\n",
    "X_train,X_test,y_train,y_test=train_test_split(X,df.Illegal_user,test_size=0.2,random_state=9)\n",
    "\n",
    "# Fit the model on training data, predict on test data\n",
    "clf = KNeighborsClassifier(10)\n",
    "clf.fit(X_train, y_train)\n",
    "y_score = clf.predict_proba(X_test)[:, 1]\n",
    "\n",
    "fig = px.scatter(\n",
    "    X_test.Age,\n",
    "    color=y_score, color_continuous_scale='RdBu',\n",
    "    symbol=y_test, symbol_map={'0': 'square-dot', '1': 'circle-dot'},\n",
    "    labels={'symbol': 'label', 'color': 'score of <br>first class'}\n",
    ")\n",
    "fig.update_traces(marker_size=12, marker_line_width=1.5)\n",
    "fig.update_layout(legend_orientation='h')\n",
    "fig.show()"
   ]
  },
  {
   "cell_type": "markdown",
   "id": "7159c257-3b42-4fba-8a6d-84b852b85920",
   "metadata": {},
   "source": [
    "#### PCA"
   ]
  },
  {
   "cell_type": "code",
   "execution_count": null,
   "id": "9ed228ec-2498-4dca-8ced-0be7796928d2",
   "metadata": {},
   "outputs": [],
   "source": [
    "import plotly.express as px\n",
    "from sklearn.decomposition import PCA\n",
    "\n",
    "outputs = df[drugs_columns]\n",
    "X = df.copy().drop(outputs, axis=1)\n",
    "X.drop([\"Illegal_user\"],axis=1, inplace=True)\n",
    "\n",
    "# Change the number of principal components\n",
    "pca = PCA(n_components=2)\n",
    "components = pca.fit_transform(X)\n",
    " \n",
    "total_var = pca.explained_variance_ratio_.sum() * 100\n",
    "# 2 components\n",
    "fig = px.scatter(components, x=0, y=1, color=df.Illegal_user,title=f'Total Explained Variance: {total_var:.2f}%',\n",
    "    labels={'0': 'PC 1', '1': 'PC 2'})\n",
    "\n",
    "# 3 components\n",
    "'''\n",
    "fig = px.scatter_3d(\n",
    "    components, x=0, y=1, z=2, color=df.Illegal_user, \n",
    "    title=f'Total Explained Variance: {total_var:.2f}%',\n",
    "    labels={'0': 'PC 1', '1': 'PC 2', '2': 'PC 3'}\n",
    ")\n",
    "'''\n",
    "'''\n",
    "pca.fit(df)\n",
    "exp_var_cumul = np.cumsum(pca.explained_variance_ratio_)\n",
    "\n",
    "px.area(\n",
    "    x=range(1, exp_var_cumul.shape[0] + 1),\n",
    "    y=exp_var_cumul,\n",
    "    labels={\"x\": \"# Components\", \"y\": \"Explained Variance\"}\n",
    ")\n",
    "'''\n",
    "\n",
    "fig.show()\n"
   ]
  },
  {
   "cell_type": "code",
   "execution_count": null,
   "id": "7ff5f759-fdc8-4cc7-a3cb-9bad2f893008",
   "metadata": {},
   "outputs": [],
   "source": [
    "contribs = pca.components_.T * np.sqrt(pca.explained_variance_)\n",
    "contribs"
   ]
  },
  {
   "cell_type": "code",
   "execution_count": null,
   "id": "e885841f-921f-4bf0-a2b7-a23502bbb022",
   "metadata": {},
   "outputs": [],
   "source": [
    "pca.components_"
   ]
  },
  {
   "cell_type": "markdown",
   "id": "71914f4e-2e7e-4a61-bd78-258903076eee",
   "metadata": {},
   "source": [
    "### Multilabel Classification"
   ]
  },
  {
   "cell_type": "code",
   "execution_count": null,
   "id": "d5cee4b6-3182-4a91-97ea-092510eae051",
   "metadata": {},
   "outputs": [],
   "source": [
    "from sklearn.datasets import make_classification\n",
    "from sklearn.multioutput import MultiOutputClassifier\n",
    "from sklearn.ensemble import RandomForestClassifier\n",
    "from sklearn.utils import shuffle\n",
    "import numpy as np\n",
    "X, y1 = make_classification(n_samples=10, n_features=100, n_informative=30, n_classes=3, random_state=1)\n",
    "y2 = shuffle(y1, random_state=1)\n",
    "y3 = shuffle(y1, random_state=2)\n",
    "Y = np.vstack((y1, y2, y3)).T\n",
    "n_samples, n_features = X.shape # 10,100\n",
    "n_outputs = Y.shape[1] # 3\n",
    "n_classes = 3\n",
    "forest = RandomForestClassifier(random_state=1)\n",
    "multi_target_forest = MultiOutputClassifier(forest, n_jobs=-1)\n",
    "multi_target_forest.fit(X, Y).predict(X)"
   ]
  },
  {
   "cell_type": "code",
   "execution_count": null,
   "id": "b347a7c1-e93d-443f-a572-46e0f887e5a2",
   "metadata": {},
   "outputs": [],
   "source": []
  },
  {
   "cell_type": "code",
   "execution_count": null,
   "id": "dae9caf9-087b-44df-9b7c-36be80505927",
   "metadata": {},
   "outputs": [],
   "source": []
  },
  {
   "cell_type": "code",
   "execution_count": null,
   "id": "161777fb-8c3d-4725-9332-36ce8193d9a5",
   "metadata": {},
   "outputs": [],
   "source": []
  }
 ],
 "metadata": {
  "kernelspec": {
   "display_name": "Python 3 (ipykernel)",
   "language": "python",
   "name": "python3"
  },
  "language_info": {
   "codemirror_mode": {
    "name": "ipython",
    "version": 3
   },
   "file_extension": ".py",
   "mimetype": "text/x-python",
   "name": "python",
   "nbconvert_exporter": "python",
   "pygments_lexer": "ipython3",
   "version": "3.8.12"
  }
 },
 "nbformat": 4,
 "nbformat_minor": 5
}
